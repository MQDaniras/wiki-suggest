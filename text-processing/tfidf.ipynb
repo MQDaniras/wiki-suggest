{
 "cells": [
  {
   "cell_type": "code",
   "execution_count": 2,
   "metadata": {},
   "outputs": [],
   "source": [
    "from collections import defaultdict"
   ]
  },
  {
   "cell_type": "code",
   "execution_count": 1,
   "metadata": {},
   "outputs": [],
   "source": [
    "corpus = [\n",
    "    \"Lorem ipsum dolor sit amet, consectetur adipiscing elit. Ut mollis tincidunt blandit. Pellentesque dapibus bibendum posuere. Quisque egestas ligula non enim ornare maximus. Donec eu est eleifend, laoreet felis sed, malesuada velit. Interdum et malesuada fames ac ante ipsum primis in faucibus. Ut est enim, tempor at velit in, eleifend mattis ipsum. Cras vitae elit non ligula lacinia tristique nec vel urna. Morbi posuere nisl eget nibh dignissim, sit amet euismod nibh pellentesque.\",\n",
    "    \"Pellentesque pretium tellus non arcu faucibus varius commodo et purus. Sed eget felis at mi condimentum posuere. Maecenas iaculis id eros eget convallis. Sed sed sodales orci, vel ullamcorper magna. Maecenas gravida ex ut ante pulvinar, et mattis libero efficitur. Maecenas ornare ullamcorper pretium. Duis eu hendrerit orci. Etiam elementum nulla urna, hendrerit consectetur erat sagittis non. Praesent quis elit massa. Vestibulum quis nisi ac nulla hendrerit blandit ut nec nisi. In consequat maximus sodales. Sed auctor eget tellus at tempor.\",\n",
    "    \"Aliquam dictum mollis sapien eget faucibus. Aenean tempus nisi id congue ultrices. Curabitur diam ipsum, elementum et pretium quis, viverra euismod lorem. Vivamus eleifend turpis viverra sapien ultrices, et placerat enim venenatis. Aliquam sit amet blandit sem. Integer rutrum magna eu velit rhoncus, ut ultricies ipsum dapibus. Orci varius natoque penatibus et magnis dis parturient montes, nascetur ridiculus mus. Proin a dictum eros. Nulla facilisi. Duis et felis id nibh lacinia eleifend eget nec felis. In ac dignissim felis, ut luctus quam. Etiam lacinia sagittis lacus ac rutrum.\",\n",
    "]"
   ]
  },
  {
   "cell_type": "code",
   "execution_count": 3,
   "metadata": {},
   "outputs": [],
   "source": []
  },
  {
   "cell_type": "code",
   "execution_count": null,
   "metadata": {},
   "outputs": [],
   "source": [
    "# document_frequency\n",
    "df = defaultdict(int)   \n",
    "tf = dict(defaultdict(int)) # dict of document -> term -> count\n",
    "\n",
    "n_terms = 0\n",
    "term2id = dict()\n",
    "\n",
    "def get_term_id(term: str) -> int:\n",
    "    if term in term2id:\n",
    "        return term2id[term]\n",
    "    else:\n",
    "        n_terms += 1\n",
    "        return n_terms - 1 # looks kinda dumb but is ok\n",
    "\n",
    "n_documents = len(corpus)\n",
    "\n",
    "for document_id, document in enumerate(corpus):\n",
    "\n",
    "    terms = document.split()\n",
    "\n",
    "    # num terms\n",
    "    n_terms = len(terms)\n",
    "\n",
    "    for term in terms:\n",
    "        term_id = get_term_id(term)\n",
    "\n",
    "        # TODO: Some hashing etc. based on the two numbers together (?)\n",
    "        # Update the term frequency for the document\n",
    "        tf[document_id][term_id] += 1 / n_terms\n",
    "\n",
    "    # TODO: Include in the loop above - challenge is +1 should only be done once per document even if the term appears multiple times\n",
    "    for term in set(terms):\n",
    "        df[term_id] += 1 / n_documents\n",
    "\n"
   ]
  },
  {
   "cell_type": "code",
   "execution_count": null,
   "metadata": {},
   "outputs": [],
   "source": []
  },
  {
   "cell_type": "code",
   "execution_count": null,
   "metadata": {},
   "outputs": [],
   "source": []
  }
 ],
 "metadata": {
  "kernelspec": {
   "display_name": ".env",
   "language": "python",
   "name": "python3"
  },
  "language_info": {
   "codemirror_mode": {
    "name": "ipython",
    "version": 3
   },
   "file_extension": ".py",
   "mimetype": "text/x-python",
   "name": "python",
   "nbconvert_exporter": "python",
   "pygments_lexer": "ipython3",
   "version": "3.10.7"
  }
 },
 "nbformat": 4,
 "nbformat_minor": 2
}
