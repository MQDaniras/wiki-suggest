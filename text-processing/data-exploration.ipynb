{
 "cells": [
  {
   "cell_type": "markdown",
   "metadata": {},
   "source": [
    "# Text exploration\n",
    "\n",
    "This is a notebook for *looking* at the text data so we can make descisions about how to clean and process the data to be used for clustering in.\n",
    "\n",
    "**The actual preprocessing done to create the dataset we use throughout the codebase can be found in `preprocessing.py`**  \n",
    "\n",
    "The preprocessing will be done exploratory here, and then in `preprocessing.py` to create the data that will be and saved to a file to be used for recommendation in `recommend.py`. \n",
    "\n",
    "Expect some duplicate code between here and `.py` files.\n",
    "\n",
    "#### Our exploratory analysis includes looking at:\n",
    "- Statistics\n",
    "    - Length of texts, etc.\n",
    "- Cleaning\n",
    "- Reducing data\n",
    "    - Only use X first sentences\n",
    "- Stemming\n",
    "- Tokenizing"
   ]
  },
  {
   "cell_type": "code",
   "execution_count": 1,
   "metadata": {},
   "outputs": [],
   "source": [
    "import re\n",
    "import random\n",
    "import string\n",
    "\n",
    "import matplotlib.pyplot as plt\n",
    "import numpy as np\n",
    "\n",
    "from nltk.corpus import stopwords as sw\n",
    "from nltk.stem import PorterStemmer\n",
    "from sklearn.decomposition import PCA\n",
    "\n",
    "from utils.read_data import read_articles_file"
   ]
  },
  {
   "cell_type": "code",
   "execution_count": 2,
   "metadata": {},
   "outputs": [],
   "source": [
    "# Initialize stemmer and stopwords\n",
    "stemmer = PorterStemmer()\n",
    "stopwords = set(sw.words(\"english\"))"
   ]
  },
  {
   "cell_type": "code",
   "execution_count": 3,
   "metadata": {},
   "outputs": [],
   "source": [
    "def pca(X, labels, title = \"\", n_components = 2, figsize = (5,5)):\n",
    "    \"\"\" Function for using the sklearn pca function for visualizing our clusteirng in 2D \"\"\"\n",
    "    plt.figure(figsize = figsize)\n",
    "    pca = PCA(n_components = n_components)\n",
    "    X_pca = pca.fit(X).transform(X) if type(X) == np.ndarray else pca.fit(X.toarray()).transform(X.toarray())\n",
    "\n",
    "    x, y = X_pca.T\n",
    "    labels = labels if type(labels) == list else labels.tolist()\n",
    "    scatter = plt.scatter(x, y, c = labels, cmap=\"Set1\", label = labels)\n",
    "    plt.legend(*scatter.legend_elements())\n",
    "\n",
    "    plt.title(title)\n",
    "    plt.show()"
   ]
  },
  {
   "cell_type": "markdown",
   "metadata": {},
   "source": [
    "## Read data"
   ]
  },
  {
   "cell_type": "code",
   "execution_count": 4,
   "metadata": {},
   "outputs": [],
   "source": [
    "N = 1000\n",
    "\n",
    "article_texts_path = \"/work3/s204163/wiki/article_texts\"\n",
    "article_ids_path = \"/work3/s204163/wiki/article_ids\"\n",
    "\n",
    "all_articles = read_articles_file(article_texts_path, return_titles = False, read_titles = True)"
   ]
  },
  {
   "cell_type": "markdown",
   "metadata": {},
   "source": [
    "### Text processing"
   ]
  },
  {
   "cell_type": "code",
   "execution_count": 5,
   "metadata": {},
   "outputs": [],
   "source": [
    "# Translator for removing punctuation, including non unicode U+2013 character \"–\", very common\n",
    "punctuation_translator = str.maketrans(string.punctuation + '\\u2013', \" \" * (len(string.punctuation) + 1))\n",
    "\n",
    "def remove_numbers(text:str) -> str:\n",
    "    \"\"\" Match all digits in the string and replace them with an empty string \"\"\"\n",
    "    new_text = re.sub(r'[0-9]', ' ', text)\n",
    "    return new_text\n",
    "\n",
    "\n",
    "def remove_blank_space(text: str) -> str:\n",
    "    \"\"\" Stolen from: https://stackoverflow.com/a/1546244\"\"\"\n",
    "    # return re.sub(' +', ' ', text)        # Doesnt really work\n",
    "    # return re.sub(' {2,}', ' ', text)     # Doesnt really work\n",
    "    return \" \".join(text.split()) # TODO: Slooowwwwww\n",
    "\n",
    "\n",
    "def clean(text: str) -> str:\n",
    "    \"\"\" Strip the text of punctutaion, numbers, excessive spaces, etc. \"\"\"\n",
    "    text = remove_numbers(text)                                         # remove numbers\n",
    "    text = text.translate(punctuation_translator)                       # remove punctuation: !\"#$%&\\'()*+,-./:;<=>?@[\\\\]^_`{|}~\n",
    "    text = text.lower()                                                 # convert to lower case\n",
    "    text = remove_blank_space(text)                                     # remove double+ spacing\n",
    "    text = text.strip()                                                 # remove newline characters and spaces\n",
    "    return text"
   ]
  },
  {
   "cell_type": "code",
   "execution_count": 6,
   "metadata": {},
   "outputs": [],
   "source": [
    "def preprocess(text: str) -> str:\n",
    "    \"\"\"\n",
    "    Do preprocessing which includes:\n",
    "        - cleaning text\n",
    "        - removing stop words\n",
    "        - stemming words\n",
    "    \"\"\"\n",
    "    text = clean(text)\n",
    "    \n",
    "    # Do stop word removal and stemming in one pass, looks messy saves some time\n",
    "    words = text.split()\n",
    "    return \" \".join([stemmer.stem(word) for word in words if not word in stopwords])\n",
    "\n",
    "\n",
    "def random_articles(articles: set, N : int, seed: int = 0) -> set:\n",
    "    \"\"\" Return a subset of N random articles \"\"\"\n",
    "    random.seed(seed)\n",
    "    random_keys = random.sample(list(articles.keys()), N)\n",
    "\n",
    "    return { key : articles[key] for key in random_keys }"
   ]
  },
  {
   "cell_type": "markdown",
   "metadata": {},
   "source": [
    "### Random sample a subset of data"
   ]
  },
  {
   "cell_type": "code",
   "execution_count": 7,
   "metadata": {},
   "outputs": [
    {
     "name": "stdout",
     "output_type": "stream",
     "text": [
      "original  : Princes Street (often misspelt as \"Princess Street\") is a major street in Dunedin, the second larges\n",
      "processed : princ street often misspelt princess street major street dunedin second largest citi south island ne\n",
      "----------------------------------------------------------------------------------------------------\n",
      "original  : thumb|right|The Rev. Samuel Merrill Woodbridge, c. late 1860s|alt=Nineteenth century black-and-white\n",
      "processed : thumb right rev samuel merril woodbridg c late alt nineteenth centuri black white photograph samuel \n",
      "----------------------------------------------------------------------------------------------------\n",
      "original  : \"All Hell Breaks Loose\" is the joint title for the two-part second-season finale of The CW televisio\n",
      "processed : hell break loos joint titl two part second season final cw televis seri supernatur consist twenti fi\n",
      "----------------------------------------------------------------------------------------------------\n",
      "original  : John Adams Jr. (October 30, 1735 – July 4, 1826) was an American statesman, attorney, diplomat, writ\n",
      "processed : john adam jr octob juli american statesman attorney diplomat writer found father serv second presid \n",
      "----------------------------------------------------------------------------------------------------\n",
      "original  : U.S. Route 60 (US-60) is a transcontinental U.S. highway extending from near Brenda, Arizona to Virg\n",
      "processed : u rout us transcontinent u highway extend near brenda arizona virginia beach virginia atlant ocean a\n",
      "----------------------------------------------------------------------------------------------------\n"
     ]
    }
   ],
   "source": [
    "# Sample N articles \n",
    "raw_articles = random_articles(all_articles, N = N)\n",
    "\n",
    "# Grab the raw text from the articles and do preprocessing\n",
    "raw_corpus = list(raw_articles.values())\n",
    "corpus = [preprocess(text) for text in raw_corpus]\n",
    "\n",
    "# Print a small sample\n",
    "for raw_text, text in zip(raw_corpus[:5], corpus[:5]):\n",
    "    print(f\"original  : {raw_text[:100]}\")\n",
    "    print(f\"processed : {text[:100]}\")\n",
    "    print(\"-\" * 100)"
   ]
  },
  {
   "cell_type": "markdown",
   "metadata": {},
   "source": [
    "## Visualize data\n",
    "#### Lengths"
   ]
  },
  {
   "cell_type": "code",
   "execution_count": 8,
   "metadata": {},
   "outputs": [],
   "source": [
    "raw_text_n_chars = [len(text) for text in raw_corpus if len(text)]\n",
    "raw_text_n_words = [len(text.split()) for text in raw_corpus]\n",
    "\n",
    "text_n_chars = [len(text) for text in corpus if len(text)]\n",
    "text_n_words = [len(text.split()) for text in corpus]"
   ]
  },
  {
   "cell_type": "code",
   "execution_count": 9,
   "metadata": {},
   "outputs": [
    {
     "data": {
      "image/png": "[encoded data removed]",
      "text/plain": [
       "<Figure size 640x480 with 1 Axes>"
      ]
     },
     "metadata": {},
     "output_type": "display_data"
    }
   ],
   "source": [
    "plt.hist([raw_text_n_chars, text_n_chars], 50, stacked= True)\n",
    "plt.show()"
   ]
  },
  {
   "cell_type": "markdown",
   "metadata": {},
   "source": [
    "## Shorten texts"
   ]
  },
  {
   "cell_type": "code",
   "execution_count": 10,
   "metadata": {},
   "outputs": [],
   "source": [
    "def shorten_texts(corpus: list, max_chars: int = 10_000):\n",
    "    return [text[:max_chars] for text in corpus]\n",
    "\n",
    "corpus = shorten_texts(corpus)"
   ]
  },
  {
   "cell_type": "code",
   "execution_count": 11,
   "metadata": {},
   "outputs": [
    {
     "data": {
      "image/png": "[encoded data removed]",
      "text/plain": [
       "<Figure size 640x480 with 1 Axes>"
      ]
     },
     "metadata": {},
     "output_type": "display_data"
    }
   ],
   "source": [
    "plt.hist([len(text.split()) for text in corpus], 50)\n",
    "plt.show()"
   ]
  }
 ],
 "metadata": {
  "kernelspec": {
   "display_name": ".env",
   "language": "python",
   "name": "python3"
  },
  "language_info": {
   "codemirror_mode": {
    "name": "ipython",
    "version": 3
   },
   "file_extension": ".py",
   "mimetype": "text/x-python",
   "name": "python",
   "nbconvert_exporter": "python",
   "pygments_lexer": "ipython3",
   "version": "3.10.7"
  }
 },
 "nbformat": 4,
 "nbformat_minor": 2
}
