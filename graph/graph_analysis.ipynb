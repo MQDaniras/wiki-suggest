{
 "cells": [
  {
   "cell_type": "code",
   "execution_count": 10,
   "metadata": {},
   "outputs": [],
   "source": [
    "import networkx as nx\n",
    "import netwulf as nw\n",
    "import matplotlib.pyplot as plt\n",
    "import pickle\n",
    "import scipy"
   ]
  },
  {
   "cell_type": "code",
   "execution_count": 2,
   "metadata": {},
   "outputs": [],
   "source": [
    "\n",
    "path = \"/work3/s204163/wiki/graph_logs/graphs/filtered_article_graphs_compact/graph-final.pickle\"\n",
    "\n",
    "# Load the graph\n",
    "with open(path, \"rb\") as f:\n",
    "    graph = pickle.load(f)\n"
   ]
  },
  {
   "cell_type": "code",
   "execution_count": 3,
   "metadata": {},
   "outputs": [],
   "source": [
    "# Check if anynodes with the attribute \"is_article\" is True has any edges to nodes with the same attribute\n",
    "\n",
    "for node in graph.nodes(data=True):\n",
    "    if node[1][\"article\"]:\n",
    "        for neighbor in graph.neighbors(node[0]):\n",
    "            if graph.nodes[neighbor][\"article\"]:\n",
    "                print(\"Found edge between two articles\")\n",
    "                print(node, neighbor)\n",
    "                break\n"
   ]
  },
  {
   "cell_type": "code",
   "execution_count": 4,
   "metadata": {},
   "outputs": [],
   "source": [
    "# If a node has the attribute \"article\" set to True, then set it's \"group\" attribute to \"article\" otherwise set it to \"user\"\n",
    "\n",
    "for node in graph.nodes(data=True):\n",
    "    if node[1][\"article\"]:\n",
    "        node[1][\"group\"] = \"article\"\n",
    "    else:\n",
    "        node[1][\"group\"] = \"user\"\n"
   ]
  },
  {
   "cell_type": "code",
   "execution_count": 12,
   "metadata": {},
   "outputs": [],
   "source": [
    "nx.write_edgelist(graph, \"/work3/s204163/wiki/graph_logs/graphs/filtered_article_graphs_compact/graph-edgelist.pickle\", comments='#', delimiter=' ', data=True, encoding='utf-8')"
   ]
  },
  {
   "cell_type": "code",
   "execution_count": 13,
   "metadata": {},
   "outputs": [],
   "source": [
    "nx.write_gexf(graph, \"/work3/s204163/wiki/graph_logs/graphs/filtered_article_graphs_compact/graph-gephi.gexf\")"
   ]
  },
  {
   "cell_type": "code",
   "execution_count": null,
   "metadata": {},
   "outputs": [],
   "source": []
  }
 ],
 "metadata": {
  "kernelspec": {
   "display_name": ".venv",
   "language": "python",
   "name": "python3"
  },
  "language_info": {
   "codemirror_mode": {
    "name": "ipython",
    "version": 3
   },
   "file_extension": ".py",
   "mimetype": "text/x-python",
   "name": "python",
   "nbconvert_exporter": "python",
   "pygments_lexer": "ipython3",
   "version": "3.10.11"
  }
 },
 "nbformat": 4,
 "nbformat_minor": 2
}
