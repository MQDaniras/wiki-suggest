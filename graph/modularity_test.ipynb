{
 "cells": [
  {
   "cell_type": "code",
   "execution_count": 1,
   "metadata": {},
   "outputs": [],
   "source": [
    "import networkx as nx\n",
    "from itertools import count\n",
    "import pickle"
   ]
  },
  {
   "cell_type": "code",
   "execution_count": 2,
   "metadata": {},
   "outputs": [],
   "source": [
    "path_1 = \"/work3/s204163/wiki/graph-partitioning/spectral_graph_001.pkl\"\n",
    "path_2 = \"/work3/s204163/wiki/graph-partitioning/GirvanNewmanGraph_partitions_0.pkl\"\n",
    "\n",
    "with open(path_1, \"rb\") as f:\n",
    "    G = pickle.load(f)\n",
    "    \n",
    "with open(path_2, \"rb\") as f:\n",
    "    G_2 = pickle.load(f)"
   ]
  },
  {
   "cell_type": "code",
   "execution_count": 3,
   "metadata": {},
   "outputs": [],
   "source": [
    "partition = {node: G.nodes[node][\"group\"] for node in G.nodes}\n",
    "partition_2 = {node: G_2.nodes[node][\"group_idx\"] for node in G_2.nodes}"
   ]
  },
  {
   "cell_type": "code",
   "execution_count": 4,
   "metadata": {},
   "outputs": [],
   "source": [
    "#The function take a networkX Graph and a partitioning as inputs and return the modularity\n",
    "# Define the function to compute modularity\n",
    "def compute_modularity(K, partition):\n",
    "    # Get the total number of edges in the graph\n",
    "    m = K.number_of_edges()\n",
    "    \n",
    "    # Initialize the modularity\n",
    "    Q = 0\n",
    "    \n",
    "    # Loop through each community in the partition\n",
    "    for community in set(partition.values()):\n",
    "        # Get the nodes in the community\n",
    "        nodes = [n for n in K.nodes if partition[n] == community]\n",
    "        \n",
    "        # Get the number of edges in the community\n",
    "        ec = sum([1 for (u, v) in K.edges(nodes) if partition[u] == partition[v]])\n",
    "        \n",
    "        # Get the sum of the degrees of the nodes in the community\n",
    "        degc = sum([K.degree[node] for node in nodes])\n",
    "        \n",
    "        # Compute the modularity contribution of the community\n",
    "        qc = ec / m - (degc / (2 * m)) ** 2\n",
    "        \n",
    "        # Add the modularity contribution of the community to the total modularity\n",
    "        Q += qc\n",
    "    \n",
    "    return Q\n",
    "\n",
    "# Define the partition based on the \"club\" attribute\n",
    "#partition = {node: K.nodes[node][\"club\"] for node in K.nodes}\n",
    "#print(partition)\n"
   ]
  },
  {
   "cell_type": "code",
   "execution_count": 6,
   "metadata": {},
   "outputs": [
    {
     "name": "stdout",
     "output_type": "stream",
     "text": [
      "Spectral clustering: 0.3242999231832009\n",
      "Girvan-Newman: 0.9084845051338365\n"
     ]
    }
   ],
   "source": [
    "# Compute the modularity of the Karate club split partitioning\n",
    "Q = compute_modularity(G, partition)\n",
    "Q_2 = compute_modularity(G_2, partition_2)\n",
    "\n",
    "print(f'Spectral clustering: {Q}')\n",
    "print(f'Girvan-Newman: {Q_2}')"
   ]
  }
 ],
 "metadata": {
  "kernelspec": {
   "display_name": "Python 3",
   "language": "python",
   "name": "python3"
  },
  "language_info": {
   "codemirror_mode": {
    "name": "ipython",
    "version": 3
   },
   "file_extension": ".py",
   "mimetype": "text/x-python",
   "name": "python",
   "nbconvert_exporter": "python",
   "pygments_lexer": "ipython3",
   "version": "3.10.11"
  }
 },
 "nbformat": 4,
 "nbformat_minor": 2
}
