{
 "cells": [
  {
   "cell_type": "code",
   "execution_count": 1,
   "metadata": {},
   "outputs": [],
   "source": [
    "import pickle\n",
    "import numpy as np\n",
    "import matplotlib.pyplot as plt\n",
    "import pandas as pd\n",
    "import networkx as nx\n",
    "import netwulf"
   ]
  },
  {
   "cell_type": "code",
   "execution_count": 2,
   "metadata": {},
   "outputs": [],
   "source": [
    "path_1 = \"/work3/s204163/wiki/graph-partitioning/spectral_graph_001.pkl\"\n",
    "path_2 = \"/work3/s204163/wiki/graph-partitioning/GirvanNewmanGraph_partitions_0.pkl\"\n",
    "\n",
    "with open(path_1, \"rb\") as f:\n",
    "    G = pickle.load(f)\n",
    "    \n",
    "with open(path_2, \"rb\") as f:\n",
    "    G_2 = pickle.load(f)\n",
    "    "
   ]
  },
  {
   "cell_type": "code",
   "execution_count": 3,
   "metadata": {},
   "outputs": [],
   "source": [
    "def neighbors (Graph, list_of_nodes):\n",
    "    for node in list_of_nodes:\n",
    "        all_neighbors = nx.single_source_shortest_path_length(Graph, node, cutoff=7)\n",
    "        list_of_neighbors = [key for key, value in all_neighbors.items() if value % 2 != 0]\n",
    "        print(f'Node {node} has the following neighbors: {list_of_neighbors[:6]}')\n",
    "    \n",
    "    return "
   ]
  },
  {
   "cell_type": "code",
   "execution_count": 5,
   "metadata": {},
   "outputs": [
    {
     "name": "stdout",
     "output_type": "stream",
     "text": [
      "Spectral clustering:\n",
      "Node U165.146.213.31 has the following neighbors: ['A56483', 'A1195477', 'A30467', 'A9736', 'A37764', 'A372266']\n",
      "Node U82.150.169.44 has the following neighbors: ['A150969', 'A578101', 'A9896', 'A355074', 'A1205183', 'A56483']\n",
      "Node U80.72.152.148 has the following neighbors: ['A9896', 'A29067', 'A252247', 'A11403378', 'A9736', 'A150969']\n",
      "Node U5929855 has the following neighbors: ['A5476946', 'A9736', 'A2933388', 'A56483', 'A27784', 'A9896']\n",
      "Girvan Newman:\n",
      "Node U165.146.213.31 has the following neighbors: ['A56483', 'A372266', 'A1195477', 'A1786680']\n",
      "Node U82.150.169.44 has the following neighbors: ['A150969']\n",
      "Node U80.72.152.148 has the following neighbors: ['A9896', 'A29067', 'A249601', 'A252247', 'A98927']\n",
      "Node U5929855 has the following neighbors: ['A5476946', 'A2933388', 'A11403378']\n"
     ]
    }
   ],
   "source": [
    "print('Spectral clustering:')\n",
    "neighbors(G, ['U165.146.213.31', 'U82.150.169.44', 'U80.72.152.148', 'U5929855'])\n",
    "print('Girvan Newman:')\n",
    "neighbors(G_2, ['U165.146.213.31', 'U82.150.169.44', 'U80.72.152.148', 'U5929855'])"
   ]
  }
 ],
 "metadata": {
  "kernelspec": {
   "display_name": "Python 3",
   "language": "python",
   "name": "python3"
  },
  "language_info": {
   "codemirror_mode": {
    "name": "ipython",
    "version": 3
   },
   "file_extension": ".py",
   "mimetype": "text/x-python",
   "name": "python",
   "nbconvert_exporter": "python",
   "pygments_lexer": "ipython3",
   "version": "3.10.11"
  }
 },
 "nbformat": 4,
 "nbformat_minor": 2
}
