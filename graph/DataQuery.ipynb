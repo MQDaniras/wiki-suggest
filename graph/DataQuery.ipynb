{
 "cells": [
  {
   "cell_type": "code",
   "execution_count": 31,
   "metadata": {},
   "outputs": [],
   "source": [
    "import pickle\n",
    "import numpy as np\n",
    "import matplotlib.pyplot as plt\n",
    "import pandas as pd\n",
    "import seaborn as sns\n",
    "from tqdm import tqdm"
   ]
  },
  {
   "cell_type": "code",
   "execution_count": 32,
   "metadata": {},
   "outputs": [],
   "source": [
    "ARTICLE_ID = 'A37764'\n",
    "USER_ID = 'U165.146.213.31\\n'"
   ]
  },
  {
   "cell_type": "code",
   "execution_count": 35,
   "metadata": {},
   "outputs": [
    {
     "name": "stdout",
     "output_type": "stream",
     "text": [
      "Looking up object of type article with id: 37764\n",
      "Found 2566 instances\n",
      "Looking up instances\n"
     ]
    },
    {
     "name": "stderr",
     "output_type": "stream",
     "text": [
      "  0%|          | 0/2566 [00:00<?, ?it/s]"
     ]
    },
    {
     "name": "stdout",
     "output_type": "stream",
     "text": [
      "Found 10 revisions\n"
     ]
    },
    {
     "name": "stderr",
     "output_type": "stream",
     "text": [
      "\n"
     ]
    }
   ],
   "source": [
    "# Get all revisions containing a specific user or article\n",
    "def get_data(object_id : str, N : int = None) -> None | list:\n",
    "    \n",
    "    data_type = object_id[0]\n",
    "    object_id = object_id[1:]\n",
    "    \n",
    "    match data_type:\n",
    "        case 'U':\n",
    "            map_path = \"/work3/s204163/wiki/data-batches/user_id_map.pickle\"\n",
    "            column = 'user_id'\n",
    "            data_type = 'user'\n",
    "        case 'A':\n",
    "            map_path = \"/work3/s204163/wiki/data-batches/article_id_map.pickle\"\n",
    "            object_id = int(object_id)\n",
    "            column = 'article_id'\n",
    "            data_type = 'article'\n",
    "        case _:\n",
    "            raise ValueError(\"Invalid data type, DATATYPE MUST BE SPECIFIED IN THE ID AS THE FIRST CHARACTER (U or A)\")\n",
    "            \n",
    "    with open(map_path, 'rb') as f:\n",
    "        mapping = pickle.load(f)\n",
    "        \n",
    "    print(f\"Looking up object of type {data_type} with id: {object_id}\")\n",
    "    \n",
    "    batch_ids = mapping.get(str(object_id), None) # Get all batches containing the object\n",
    "    \n",
    "    print(f\"Found {len(batch_ids)} instances\")\n",
    "    \n",
    "    if batch_ids == None:\n",
    "        return None\n",
    "    \n",
    "    print(f\"Looking up instances\")\n",
    "    revisions = []\n",
    "    \n",
    "    # Find all revisions in all the batches containing a reference to the object\n",
    "    for batch_id in tqdm(batch_ids):\n",
    "        batch_path = f\"/work3/s204163/wiki/data-batches/batch{batch_id}.pickle\"\n",
    "        with open(batch_path, 'rb') as f:\n",
    "            batch = pickle.load(f)\n",
    "            \n",
    "        # Find Article in batch\n",
    "        revision_indexes = list(batch.index[batch[column] == object_id])\n",
    "        for revision_index in revision_indexes:\n",
    "            revision = batch.loc[revision_index]\n",
    "            revisions.append(revision)\n",
    "            \n",
    "            if N:\n",
    "                if len(revisions) >= N:\n",
    "                    print(f\"Found {len(revisions)} revisions\")\n",
    "                    return revisions\n",
    "    \n",
    "    print(f\"Found {len(revisions)} revisions\")\n",
    "    return revisions\n",
    "\n",
    "            \n",
    "res = get_data(ARTICLE_ID, 10)\n",
    "        "
   ]
  },
  {
   "cell_type": "code",
   "execution_count": null,
   "metadata": {},
   "outputs": [],
   "source": []
  }
 ],
 "metadata": {
  "kernelspec": {
   "display_name": ".venv",
   "language": "python",
   "name": "python3"
  },
  "language_info": {
   "codemirror_mode": {
    "name": "ipython",
    "version": 3
   },
   "file_extension": ".py",
   "mimetype": "text/x-python",
   "name": "python",
   "nbconvert_exporter": "python",
   "pygments_lexer": "ipython3",
   "version": "3.10.11"
  }
 },
 "nbformat": 4,
 "nbformat_minor": 2
}
