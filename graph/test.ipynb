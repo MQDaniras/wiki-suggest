{
 "cells": [
  {
   "cell_type": "code",
   "execution_count": 6,
   "metadata": {},
   "outputs": [],
   "source": [
    "from utils.read_data import read_revisions"
   ]
  },
  {
   "cell_type": "code",
   "execution_count": 7,
   "metadata": {},
   "outputs": [],
   "source": [
    "file_path = '/work3/s204163/wiki/wiki-revisions-filtered.bz2'\n"
   ]
  },
  {
   "cell_type": "code",
   "execution_count": 8,
   "metadata": {},
   "outputs": [],
   "source": [
    "N=100000"
   ]
  },
  {
   "cell_type": "code",
   "execution_count": 13,
   "metadata": {},
   "outputs": [],
   "source": [
    "df_revisions = read_revisions(file_path, N=N)"
   ]
  },
  {
   "cell_type": "code",
   "execution_count": 14,
   "metadata": {},
   "outputs": [
    {
     "name": "stdout",
     "output_type": "stream",
     "text": [
      "<class 'pandas.core.frame.DataFrame'>\n",
      "RangeIndex: 100000 entries, 0 to 99999\n",
      "Data columns (total 12 columns):\n",
      " #   Column         Non-Null Count   Dtype         \n",
      "---  ------         --------------   -----         \n",
      " 0   article_id     100000 non-null  int64         \n",
      " 1   revision_id    100000 non-null  int64         \n",
      " 2   user_id        100000 non-null  object        \n",
      " 3   article_title  100000 non-null  object        \n",
      " 4   timestamp      100000 non-null  datetime64[ns]\n",
      " 5   username       100000 non-null  object        \n",
      " 6   category       100000 non-null  object        \n",
      " 7   main_linked    100000 non-null  object        \n",
      " 8   other_linked   100000 non-null  object        \n",
      " 9   comment        100000 non-null  object        \n",
      " 10  minor          100000 non-null  bool          \n",
      " 11  num_words      100000 non-null  int64         \n",
      "dtypes: bool(1), datetime64[ns](1), int64(3), object(7)\n",
      "memory usage: 2.0 GB\n"
     ]
    }
   ],
   "source": [
    "# memory df_revisions\n",
    "df_revisions.info(memory_usage='deep')"
   ]
  },
  {
   "cell_type": "code",
   "execution_count": 23,
   "metadata": {},
   "outputs": [],
   "source": [
    "df_revisions.columns\n",
    "\n",
    "# new df with only the columns we need\n",
    "# article_id revision_id user_id category\n",
    "df_revisions = df_revisions[['article_id', 'revision_id', 'user_id', 'category']]"
   ]
  },
  {
   "cell_type": "code",
   "execution_count": 24,
   "metadata": {},
   "outputs": [
    {
     "data": {
      "text/html": [
       "<div>\n",
       "<style scoped>\n",
       "    .dataframe tbody tr th:only-of-type {\n",
       "        vertical-align: middle;\n",
       "    }\n",
       "\n",
       "    .dataframe tbody tr th {\n",
       "        vertical-align: top;\n",
       "    }\n",
       "\n",
       "    .dataframe thead th {\n",
       "        text-align: right;\n",
       "    }\n",
       "</style>\n",
       "<table border=\"1\" class=\"dataframe\">\n",
       "  <thead>\n",
       "    <tr style=\"text-align: right;\">\n",
       "      <th></th>\n",
       "      <th>article_id</th>\n",
       "      <th>revision_id</th>\n",
       "      <th>user_id</th>\n",
       "      <th>category</th>\n",
       "    </tr>\n",
       "  </thead>\n",
       "  <tbody>\n",
       "    <tr>\n",
       "      <th>0</th>\n",
       "      <td>6</td>\n",
       "      <td>233188</td>\n",
       "      <td>office.bomis.com\\n</td>\n",
       "      <td>{}</td>\n",
       "    </tr>\n",
       "    <tr>\n",
       "      <th>1</th>\n",
       "      <td>6</td>\n",
       "      <td>133180191</td>\n",
       "      <td>4477979\\n</td>\n",
       "      <td>{}</td>\n",
       "    </tr>\n",
       "    <tr>\n",
       "      <th>2</th>\n",
       "      <td>8</td>\n",
       "      <td>233189</td>\n",
       "      <td>pD950754B.dip.t-dialin.net\\n</td>\n",
       "      <td>{}</td>\n",
       "    </tr>\n",
       "    <tr>\n",
       "      <th>3</th>\n",
       "      <td>8</td>\n",
       "      <td>133180238</td>\n",
       "      <td>4477979\\n</td>\n",
       "      <td>{}</td>\n",
       "    </tr>\n",
       "    <tr>\n",
       "      <th>4</th>\n",
       "      <td>10</td>\n",
       "      <td>233192</td>\n",
       "      <td>99\\n</td>\n",
       "      <td>{}</td>\n",
       "    </tr>\n",
       "  </tbody>\n",
       "</table>\n",
       "</div>"
      ],
      "text/plain": [
       "   article_id  revision_id                       user_id category\n",
       "0           6       233188            office.bomis.com\\n       {}\n",
       "1           6    133180191                     4477979\\n       {}\n",
       "2           8       233189  pD950754B.dip.t-dialin.net\\n       {}\n",
       "3           8    133180238                     4477979\\n       {}\n",
       "4          10       233192                          99\\n       {}"
      ]
     },
     "execution_count": 24,
     "metadata": {},
     "output_type": "execute_result"
    }
   ],
   "source": [
    "df_revisions.head()"
   ]
  },
  {
   "cell_type": "code",
   "execution_count": null,
   "metadata": {},
   "outputs": [],
   "source": []
  },
  {
   "cell_type": "code",
   "execution_count": null,
   "metadata": {},
   "outputs": [],
   "source": []
  }
 ],
 "metadata": {
  "kernelspec": {
   "display_name": ".env",
   "language": "python",
   "name": "python3"
  },
  "language_info": {
   "codemirror_mode": {
    "name": "ipython",
    "version": 3
   },
   "file_extension": ".py",
   "mimetype": "text/x-python",
   "name": "python",
   "nbconvert_exporter": "python",
   "pygments_lexer": "ipython3",
   "version": "3.10.11"
  }
 },
 "nbformat": 4,
 "nbformat_minor": 2
}
