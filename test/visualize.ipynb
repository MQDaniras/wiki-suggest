{
 "cells": [
  {
   "cell_type": "code",
   "execution_count": 3,
   "metadata": {},
   "outputs": [],
   "source": [
    "import os, sys\n",
    "sys.path.append(os.path.dirname(os.path.realpath(\".\")))\n",
    "from utils.read_revisions import read_revisions"
   ]
  },
  {
   "cell_type": "code",
   "execution_count": 4,
   "metadata": {},
   "outputs": [
    {
     "ename": "KeyboardInterrupt",
     "evalue": "",
     "output_type": "error",
     "traceback": [
      "\u001b[0;31m---------------------------------------------------------------------------\u001b[0m",
      "\u001b[0;31mKeyboardInterrupt\u001b[0m                         Traceback (most recent call last)",
      "\u001b[1;32m/zhome/a7/d/156506/myfolder/wiki-suggest/test/visualize.ipynb Cell 2\u001b[0m line \u001b[0;36m1\n\u001b[0;32m----> <a href='vscode-notebook-cell://ssh-remote%2Bgbar/zhome/a7/d/156506/myfolder/wiki-suggest/test/visualize.ipynb#W2sdnNjb2RlLXJlbW90ZQ%3D%3D?line=0'>1</a>\u001b[0m read_revisions(\u001b[39m\"\u001b[39;49m\u001b[39m/work3/s204163/wiki/wiki-revisions-filtered.bz2\u001b[39;49m\u001b[39m\"\u001b[39;49m, N\u001b[39m=\u001b[39;49m\u001b[39m5\u001b[39;49m, random\u001b[39m=\u001b[39;49m\u001b[39mTrue\u001b[39;49;00m)\n",
      "File \u001b[0;32m~/myfolder/wiki-suggest/utils/read_revisions.py:69\u001b[0m, in \u001b[0;36mread_revisions\u001b[0;34m(file_path, N, start, end, random)\u001b[0m\n\u001b[1;32m     18\u001b[0m \u001b[39m\u001b[39m\u001b[39m\"\"\"\u001b[39;00m\n\u001b[1;32m     19\u001b[0m \u001b[39mRead and parse N lines of a (large) bzip2 file on the format given in Wikipedia Edits dataset \u001b[39;00m\n\u001b[1;32m     20\u001b[0m \u001b[39mseen in: https://snap.stanford.edu/data/wiki-meta.html\u001b[39;00m\n\u001b[0;32m   (...)\u001b[0m\n\u001b[1;32m     66\u001b[0m \u001b[39mbeen created and will be used to significantly speed up look up.\u001b[39;00m\n\u001b[1;32m     67\u001b[0m \u001b[39m\"\"\"\u001b[39;00m\n\u001b[1;32m     68\u001b[0m \u001b[39mif\u001b[39;00m random \u001b[39mand\u001b[39;00m N:\n\u001b[0;32m---> 69\u001b[0m     \u001b[39mreturn\u001b[39;00m _read_revisions_random(file_path, N)\n\u001b[1;32m     70\u001b[0m \u001b[39melif\u001b[39;00m start \u001b[39mand\u001b[39;00m end:\n\u001b[1;32m     71\u001b[0m     \u001b[39mreturn\u001b[39;00m _read_revisions_between(file_path, start, end)\n",
      "File \u001b[0;32m~/myfolder/wiki-suggest/utils/read_revisions.py:131\u001b[0m, in \u001b[0;36m_read_revisions_random\u001b[0;34m(file_path, N)\u001b[0m\n\u001b[1;32m    129\u001b[0m \u001b[39m# Get the position of the index and go to the byte location in the file\u001b[39;00m\n\u001b[1;32m    130\u001b[0m _, index_byte_position \u001b[39m=\u001b[39m byte_position_of_closest_index(index, random_index)\n\u001b[0;32m--> 131\u001b[0m file\u001b[39m.\u001b[39;49mseek(index_byte_position)\n\u001b[1;32m    133\u001b[0m \u001b[39m# There are EXACTLY 14 fields in every revision, we group / bundle them together in a tuple for speed\u001b[39;00m\n\u001b[1;32m    134\u001b[0m \u001b[39mfor\u001b[39;00m i, line \u001b[39min\u001b[39;00m \u001b[39menumerate\u001b[39m(groups(file, \u001b[39m14\u001b[39m)):\n\u001b[1;32m    135\u001b[0m \n\u001b[1;32m    136\u001b[0m     \u001b[39m# If we found the revision, save and move on\u001b[39;00m\n",
      "File \u001b[0;32m/appl/python/3.10.2/lib/python3.10/bz2.py:261\u001b[0m, in \u001b[0;36mBZ2File.seek\u001b[0;34m(self, offset, whence)\u001b[0m\n\u001b[1;32m    246\u001b[0m \u001b[39m\u001b[39m\u001b[39m\"\"\"Change the file position.\u001b[39;00m\n\u001b[1;32m    247\u001b[0m \n\u001b[1;32m    248\u001b[0m \u001b[39mThe new position is specified by offset, relative to the\u001b[39;00m\n\u001b[0;32m   (...)\u001b[0m\n\u001b[1;32m    258\u001b[0m \u001b[39mthis operation may be extremely slow.\u001b[39;00m\n\u001b[1;32m    259\u001b[0m \u001b[39m\"\"\"\u001b[39;00m\n\u001b[1;32m    260\u001b[0m \u001b[39mself\u001b[39m\u001b[39m.\u001b[39m_check_can_seek()\n\u001b[0;32m--> 261\u001b[0m \u001b[39mreturn\u001b[39;00m \u001b[39mself\u001b[39;49m\u001b[39m.\u001b[39;49m_buffer\u001b[39m.\u001b[39;49mseek(offset, whence)\n",
      "File \u001b[0;32m/appl/python/3.10.2/lib/python3.10/_compression.py:153\u001b[0m, in \u001b[0;36mDecompressReader.seek\u001b[0;34m(self, offset, whence)\u001b[0m\n\u001b[1;32m    151\u001b[0m \u001b[39m# Read and discard data until we reach the desired position.\u001b[39;00m\n\u001b[1;32m    152\u001b[0m \u001b[39mwhile\u001b[39;00m offset \u001b[39m>\u001b[39m \u001b[39m0\u001b[39m:\n\u001b[0;32m--> 153\u001b[0m     data \u001b[39m=\u001b[39m \u001b[39mself\u001b[39;49m\u001b[39m.\u001b[39;49mread(\u001b[39mmin\u001b[39;49m(io\u001b[39m.\u001b[39;49mDEFAULT_BUFFER_SIZE, offset))\n\u001b[1;32m    154\u001b[0m     \u001b[39mif\u001b[39;00m \u001b[39mnot\u001b[39;00m data:\n\u001b[1;32m    155\u001b[0m         \u001b[39mbreak\u001b[39;00m\n",
      "File \u001b[0;32m/appl/python/3.10.2/lib/python3.10/_compression.py:103\u001b[0m, in \u001b[0;36mDecompressReader.read\u001b[0;34m(self, size)\u001b[0m\n\u001b[1;32m    101\u001b[0m     \u001b[39melse\u001b[39;00m:\n\u001b[1;32m    102\u001b[0m         rawblock \u001b[39m=\u001b[39m \u001b[39mb\u001b[39m\u001b[39m\"\u001b[39m\u001b[39m\"\u001b[39m\n\u001b[0;32m--> 103\u001b[0m     data \u001b[39m=\u001b[39m \u001b[39mself\u001b[39;49m\u001b[39m.\u001b[39;49m_decompressor\u001b[39m.\u001b[39;49mdecompress(rawblock, size)\n\u001b[1;32m    104\u001b[0m \u001b[39mif\u001b[39;00m data:\n\u001b[1;32m    105\u001b[0m     \u001b[39mbreak\u001b[39;00m\n",
      "\u001b[0;31mKeyboardInterrupt\u001b[0m: "
     ]
    }
   ],
   "source": [
    "read_revisions(\"/work3/s204163/wiki/wiki-revisions-filtered.bz2\", N=5, random=True)"
   ]
  }
 ],
 "metadata": {
  "kernelspec": {
   "display_name": "python_3_10",
   "language": "python",
   "name": "python3"
  },
  "language_info": {
   "codemirror_mode": {
    "name": "ipython",
    "version": 3
   },
   "file_extension": ".py",
   "mimetype": "text/x-python",
   "name": "python",
   "nbconvert_exporter": "python",
   "pygments_lexer": "ipython3",
   "version": "3.10.2"
  }
 },
 "nbformat": 4,
 "nbformat_minor": 2
}
